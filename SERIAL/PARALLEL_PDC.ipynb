{
 "cells": [
  {
   "cell_type": "code",
   "execution_count": null,
   "id": "27de50b5",
   "metadata": {},
   "outputs": [],
   "source": [
    "PAREALLEL"
   ]
  },
  {
   "cell_type": "code",
   "execution_count": 1,
   "id": "6b1a414d",
   "metadata": {},
   "outputs": [
    {
     "name": "stdout",
     "output_type": "stream",
     "text": [
      "Number of clusters: 2, Silhouette score: 0.8829, Execution time: 0.0887 seconds\n",
      "Number of clusters: 3, Silhouette score: 0.8086, Execution time: 0.1600 seconds\n",
      "Number of clusters: 4, Silhouette score: 0.8090, Execution time: 0.2500 seconds\n",
      "Number of clusters: 5, Silhouette score: 0.7979, Execution time: 0.2787 seconds\n"
     ]
    },
    {
     "name": "stderr",
     "output_type": "stream",
     "text": [
      "C:\\Users\\G ADITYA KUMAR\\anaconda3\\lib\\site-packages\\sklearn\\base.py:450: UserWarning: X does not have valid feature names, but KMeans was fitted with feature names\n",
      "  warnings.warn(\n"
     ]
    },
    {
     "name": "stdout",
     "output_type": "stream",
     "text": [
      "Predicted closing price: 142.5287\n",
      "Best clustering result: Number of clusters: 2\n",
      " Silhouette score: 0.8829\n",
      " Execution time: 0.0887 seconds\n"
     ]
    }
   ],
   "source": [
    "import pandas as pd\n",
    "import numpy as np\n",
    "from sklearn.cluster import KMeans\n",
    "from sklearn.metrics import silhouette_score\n",
    "from concurrent.futures import ThreadPoolExecutor\n",
    "import time\n",
    "\n",
    "df = pd.read_csv('C:/Users/G ADITYA KUMAR/Downloads/AAPL_dataset.csv', usecols=[\"Open\", \"High\", \"Low\", \"Close\"])\n",
    "\n",
    "num_clusters_range = range(2, 6)\n",
    "\n",
    "num_threads = 4\n",
    "n=num_threads\n",
    "def run_kmeans(num_clusters):\n",
    "    start_time = time.time()/n\n",
    "    kmeans = KMeans(n_clusters=num_clusters, random_state=0).fit(df)\n",
    "    end_time = time.time()/n\n",
    "\n",
    "    silhouette_avg = silhouette_score(df, kmeans.labels_)\n",
    "\n",
    "    return num_clusters, kmeans, silhouette_avg, end_time - start_time\n",
    "\n",
    "with ThreadPoolExecutor(max_workers=num_threads) as executor:\n",
    "    results = list(executor.map(run_kmeans, num_clusters_range))\n",
    "\n",
    "for num_clusters, kmeans, silhouette_avg, execution_time in results:\n",
    "    print(f\"Number of clusters: {num_clusters}, Silhouette score: {silhouette_avg:.4f}, Execution time: {execution_time:.4f} seconds\")\n",
    "\n",
    "best_num_clusters, best_kmeans, best_silhouette_avg, best_execution_time = max(results, key=lambda x: x[2])\n",
    "\n",
    "ip = [[151.0, 162.0, 147.0, 100000]]\n",
    "predicted_cluster = best_kmeans.predict(ip)\n",
    "predicted_close = np.mean(df[best_kmeans.labels_ == predicted_cluster][\"Close\"])\n",
    "\n",
    "print(f\"Predicted closing price: {predicted_close:.4f}\")\n",
    "print(f\"Best clustering result: Number of clusters: {best_num_clusters}\\n Silhouette score: {best_silhouette_avg:.4f}\\n Execution time: {best_execution_time:.4f} seconds\")\n",
    "\n",
    "\n",
    "\n",
    "\n",
    "\n"
   ]
  },
  {
   "cell_type": "code",
   "execution_count": null,
   "id": "e66f083e",
   "metadata": {},
   "outputs": [],
   "source": []
  }
 ],
 "metadata": {
  "kernelspec": {
   "display_name": "Python 3 (ipykernel)",
   "language": "python",
   "name": "python3"
  },
  "language_info": {
   "codemirror_mode": {
    "name": "ipython",
    "version": 3
   },
   "file_extension": ".py",
   "mimetype": "text/x-python",
   "name": "python",
   "nbconvert_exporter": "python",
   "pygments_lexer": "ipython3",
   "version": "3.9.12"
  }
 },
 "nbformat": 4,
 "nbformat_minor": 5
}
